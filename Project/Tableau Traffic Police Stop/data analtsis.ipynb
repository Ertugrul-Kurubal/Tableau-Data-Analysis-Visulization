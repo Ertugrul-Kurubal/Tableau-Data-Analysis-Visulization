{
 "metadata": {
  "language_info": {
   "codemirror_mode": {
    "name": "ipython",
    "version": 3
   },
   "file_extension": ".py",
   "mimetype": "text/x-python",
   "name": "python",
   "nbconvert_exporter": "python",
   "pygments_lexer": "ipython3",
   "version": "3.9.0"
  },
  "orig_nbformat": 2,
  "kernelspec": {
   "name": "python390jvsc74a57bd043a9cd95aa030499ef934e4da31e07dde54f3fc3a1fd0cc4aeef7f16459ee2ac",
   "display_name": "Python 3.9.0 64-bit"
  }
 },
 "nbformat": 4,
 "nbformat_minor": 2,
 "cells": [
  {
   "cell_type": "code",
   "execution_count": 2,
   "metadata": {},
   "outputs": [],
   "source": [
    "import pandas as pd\n",
    "import numpy as np"
   ]
  },
  {
   "cell_type": "code",
   "execution_count": 3,
   "metadata": {},
   "outputs": [
    {
     "output_type": "stream",
     "name": "stderr",
     "text": [
      "C:\\Users\\Ertuğrul\\AppData\\Local\\Programs\\Python\\Python39\\lib\\site-packages\\IPython\\core\\interactiveshell.py:3146: DtypeWarning: Columns (8,16) have mixed types.Specify dtype option on import or set low_memory=False.\n  has_raised = await self.run_ast_nodes(code_ast.body, cell_name,\n"
     ]
    },
    {
     "output_type": "execute_result",
     "data": {
      "text/plain": [
       "                   id state   stop_date stop_time location_raw  county_name  \\\n",
       "0       RI-2005-00001    RI  2005-01-02     01:55      Zone K1          NaN   \n",
       "1       RI-2005-00002    RI  2005-01-02     20:30      Zone X4          NaN   \n",
       "2       RI-2005-00003    RI  2005-01-04     11:30      Zone X1          NaN   \n",
       "3       RI-2005-00004    RI  2005-01-04     12:55      Zone X4          NaN   \n",
       "4       RI-2005-00005    RI  2005-01-06     01:30      Zone X4          NaN   \n",
       "...               ...   ...         ...       ...          ...          ...   \n",
       "509676       RI-NA-06    RI         NaN       NaN      Zone NA          NaN   \n",
       "509677       RI-NA-07    RI         NaN       NaN      Zone NA          NaN   \n",
       "509678       RI-NA-08    RI         NaN       NaN      Zone NA          NaN   \n",
       "509679       RI-NA-09    RI         NaN       NaN      Zone NA          NaN   \n",
       "509680       RI-NA-10    RI         NaN       NaN      Zone NA          NaN   \n",
       "\n",
       "        county_fips  fine_grained_location police_department driver_gender  \\\n",
       "0               NaN                    NaN               600             M   \n",
       "1               NaN                    NaN               500             M   \n",
       "2               NaN                    NaN                 0           NaN   \n",
       "3               NaN                    NaN               500             M   \n",
       "4               NaN                    NaN               500             M   \n",
       "...             ...                    ...               ...           ...   \n",
       "509676          NaN                    NaN               NaN           NaN   \n",
       "509677          NaN                    NaN               NaN           NaN   \n",
       "509678          NaN                    NaN               NaN           NaN   \n",
       "509679          NaN                    NaN               NaN           NaN   \n",
       "509680          NaN                    NaN               NaN           NaN   \n",
       "\n",
       "        ...  search_conducted  search_type_raw search_type contraband_found  \\\n",
       "0       ...             False              NaN         NaN            False   \n",
       "1       ...             False              NaN         NaN            False   \n",
       "2       ...             False              NaN         NaN            False   \n",
       "3       ...             False              NaN         NaN            False   \n",
       "4       ...             False              NaN         NaN            False   \n",
       "...     ...               ...              ...         ...              ...   \n",
       "509676  ...               NaN              NaN         NaN            False   \n",
       "509677  ...               NaN              NaN         NaN            False   \n",
       "509678  ...               NaN              NaN         NaN            False   \n",
       "509679  ...               NaN              NaN         NaN            False   \n",
       "509680  ...               NaN              NaN         NaN            False   \n",
       "\n",
       "       stop_outcome is_arrested stop_duration out_of_state drugs_related_stop  \\\n",
       "0          Citation       False      0-15 Min        False              False   \n",
       "1          Citation       False     16-30 Min        False              False   \n",
       "2               NaN         NaN           NaN          NaN              False   \n",
       "3          Citation       False      0-15 Min        False              False   \n",
       "4          Citation       False      0-15 Min        False              False   \n",
       "...             ...         ...           ...          ...                ...   \n",
       "509676          NaN         NaN           NaN          NaN              False   \n",
       "509677          NaN         NaN           NaN          NaN              False   \n",
       "509678          NaN         NaN           NaN          NaN              False   \n",
       "509679          NaN         NaN           NaN          NaN              False   \n",
       "509680          NaN         NaN           NaN          NaN              False   \n",
       "\n",
       "        district  \n",
       "0        Zone K1  \n",
       "1        Zone X4  \n",
       "2        Zone X1  \n",
       "3        Zone X4  \n",
       "4        Zone X4  \n",
       "...          ...  \n",
       "509676   Zone NA  \n",
       "509677   Zone NA  \n",
       "509678   Zone NA  \n",
       "509679   Zone NA  \n",
       "509680   Zone NA  \n",
       "\n",
       "[509681 rows x 26 columns]"
      ],
      "text/html": "<div>\n<style scoped>\n    .dataframe tbody tr th:only-of-type {\n        vertical-align: middle;\n    }\n\n    .dataframe tbody tr th {\n        vertical-align: top;\n    }\n\n    .dataframe thead th {\n        text-align: right;\n    }\n</style>\n<table border=\"1\" class=\"dataframe\">\n  <thead>\n    <tr style=\"text-align: right;\">\n      <th></th>\n      <th>id</th>\n      <th>state</th>\n      <th>stop_date</th>\n      <th>stop_time</th>\n      <th>location_raw</th>\n      <th>county_name</th>\n      <th>county_fips</th>\n      <th>fine_grained_location</th>\n      <th>police_department</th>\n      <th>driver_gender</th>\n      <th>...</th>\n      <th>search_conducted</th>\n      <th>search_type_raw</th>\n      <th>search_type</th>\n      <th>contraband_found</th>\n      <th>stop_outcome</th>\n      <th>is_arrested</th>\n      <th>stop_duration</th>\n      <th>out_of_state</th>\n      <th>drugs_related_stop</th>\n      <th>district</th>\n    </tr>\n  </thead>\n  <tbody>\n    <tr>\n      <th>0</th>\n      <td>RI-2005-00001</td>\n      <td>RI</td>\n      <td>2005-01-02</td>\n      <td>01:55</td>\n      <td>Zone K1</td>\n      <td>NaN</td>\n      <td>NaN</td>\n      <td>NaN</td>\n      <td>600</td>\n      <td>M</td>\n      <td>...</td>\n      <td>False</td>\n      <td>NaN</td>\n      <td>NaN</td>\n      <td>False</td>\n      <td>Citation</td>\n      <td>False</td>\n      <td>0-15 Min</td>\n      <td>False</td>\n      <td>False</td>\n      <td>Zone K1</td>\n    </tr>\n    <tr>\n      <th>1</th>\n      <td>RI-2005-00002</td>\n      <td>RI</td>\n      <td>2005-01-02</td>\n      <td>20:30</td>\n      <td>Zone X4</td>\n      <td>NaN</td>\n      <td>NaN</td>\n      <td>NaN</td>\n      <td>500</td>\n      <td>M</td>\n      <td>...</td>\n      <td>False</td>\n      <td>NaN</td>\n      <td>NaN</td>\n      <td>False</td>\n      <td>Citation</td>\n      <td>False</td>\n      <td>16-30 Min</td>\n      <td>False</td>\n      <td>False</td>\n      <td>Zone X4</td>\n    </tr>\n    <tr>\n      <th>2</th>\n      <td>RI-2005-00003</td>\n      <td>RI</td>\n      <td>2005-01-04</td>\n      <td>11:30</td>\n      <td>Zone X1</td>\n      <td>NaN</td>\n      <td>NaN</td>\n      <td>NaN</td>\n      <td>0</td>\n      <td>NaN</td>\n      <td>...</td>\n      <td>False</td>\n      <td>NaN</td>\n      <td>NaN</td>\n      <td>False</td>\n      <td>NaN</td>\n      <td>NaN</td>\n      <td>NaN</td>\n      <td>NaN</td>\n      <td>False</td>\n      <td>Zone X1</td>\n    </tr>\n    <tr>\n      <th>3</th>\n      <td>RI-2005-00004</td>\n      <td>RI</td>\n      <td>2005-01-04</td>\n      <td>12:55</td>\n      <td>Zone X4</td>\n      <td>NaN</td>\n      <td>NaN</td>\n      <td>NaN</td>\n      <td>500</td>\n      <td>M</td>\n      <td>...</td>\n      <td>False</td>\n      <td>NaN</td>\n      <td>NaN</td>\n      <td>False</td>\n      <td>Citation</td>\n      <td>False</td>\n      <td>0-15 Min</td>\n      <td>False</td>\n      <td>False</td>\n      <td>Zone X4</td>\n    </tr>\n    <tr>\n      <th>4</th>\n      <td>RI-2005-00005</td>\n      <td>RI</td>\n      <td>2005-01-06</td>\n      <td>01:30</td>\n      <td>Zone X4</td>\n      <td>NaN</td>\n      <td>NaN</td>\n      <td>NaN</td>\n      <td>500</td>\n      <td>M</td>\n      <td>...</td>\n      <td>False</td>\n      <td>NaN</td>\n      <td>NaN</td>\n      <td>False</td>\n      <td>Citation</td>\n      <td>False</td>\n      <td>0-15 Min</td>\n      <td>False</td>\n      <td>False</td>\n      <td>Zone X4</td>\n    </tr>\n    <tr>\n      <th>...</th>\n      <td>...</td>\n      <td>...</td>\n      <td>...</td>\n      <td>...</td>\n      <td>...</td>\n      <td>...</td>\n      <td>...</td>\n      <td>...</td>\n      <td>...</td>\n      <td>...</td>\n      <td>...</td>\n      <td>...</td>\n      <td>...</td>\n      <td>...</td>\n      <td>...</td>\n      <td>...</td>\n      <td>...</td>\n      <td>...</td>\n      <td>...</td>\n      <td>...</td>\n      <td>...</td>\n    </tr>\n    <tr>\n      <th>509676</th>\n      <td>RI-NA-06</td>\n      <td>RI</td>\n      <td>NaN</td>\n      <td>NaN</td>\n      <td>Zone NA</td>\n      <td>NaN</td>\n      <td>NaN</td>\n      <td>NaN</td>\n      <td>NaN</td>\n      <td>NaN</td>\n      <td>...</td>\n      <td>NaN</td>\n      <td>NaN</td>\n      <td>NaN</td>\n      <td>False</td>\n      <td>NaN</td>\n      <td>NaN</td>\n      <td>NaN</td>\n      <td>NaN</td>\n      <td>False</td>\n      <td>Zone NA</td>\n    </tr>\n    <tr>\n      <th>509677</th>\n      <td>RI-NA-07</td>\n      <td>RI</td>\n      <td>NaN</td>\n      <td>NaN</td>\n      <td>Zone NA</td>\n      <td>NaN</td>\n      <td>NaN</td>\n      <td>NaN</td>\n      <td>NaN</td>\n      <td>NaN</td>\n      <td>...</td>\n      <td>NaN</td>\n      <td>NaN</td>\n      <td>NaN</td>\n      <td>False</td>\n      <td>NaN</td>\n      <td>NaN</td>\n      <td>NaN</td>\n      <td>NaN</td>\n      <td>False</td>\n      <td>Zone NA</td>\n    </tr>\n    <tr>\n      <th>509678</th>\n      <td>RI-NA-08</td>\n      <td>RI</td>\n      <td>NaN</td>\n      <td>NaN</td>\n      <td>Zone NA</td>\n      <td>NaN</td>\n      <td>NaN</td>\n      <td>NaN</td>\n      <td>NaN</td>\n      <td>NaN</td>\n      <td>...</td>\n      <td>NaN</td>\n      <td>NaN</td>\n      <td>NaN</td>\n      <td>False</td>\n      <td>NaN</td>\n      <td>NaN</td>\n      <td>NaN</td>\n      <td>NaN</td>\n      <td>False</td>\n      <td>Zone NA</td>\n    </tr>\n    <tr>\n      <th>509679</th>\n      <td>RI-NA-09</td>\n      <td>RI</td>\n      <td>NaN</td>\n      <td>NaN</td>\n      <td>Zone NA</td>\n      <td>NaN</td>\n      <td>NaN</td>\n      <td>NaN</td>\n      <td>NaN</td>\n      <td>NaN</td>\n      <td>...</td>\n      <td>NaN</td>\n      <td>NaN</td>\n      <td>NaN</td>\n      <td>False</td>\n      <td>NaN</td>\n      <td>NaN</td>\n      <td>NaN</td>\n      <td>NaN</td>\n      <td>False</td>\n      <td>Zone NA</td>\n    </tr>\n    <tr>\n      <th>509680</th>\n      <td>RI-NA-10</td>\n      <td>RI</td>\n      <td>NaN</td>\n      <td>NaN</td>\n      <td>Zone NA</td>\n      <td>NaN</td>\n      <td>NaN</td>\n      <td>NaN</td>\n      <td>NaN</td>\n      <td>NaN</td>\n      <td>...</td>\n      <td>NaN</td>\n      <td>NaN</td>\n      <td>NaN</td>\n      <td>False</td>\n      <td>NaN</td>\n      <td>NaN</td>\n      <td>NaN</td>\n      <td>NaN</td>\n      <td>False</td>\n      <td>Zone NA</td>\n    </tr>\n  </tbody>\n</table>\n<p>509681 rows × 26 columns</p>\n</div>"
     },
     "metadata": {},
     "execution_count": 3
    }
   ],
   "source": [
    "df = pd.read_csv(\"RI_cleaned.csv\")\n",
    "df"
   ]
  },
  {
   "cell_type": "code",
   "execution_count": null,
   "metadata": {},
   "outputs": [],
   "source": []
  }
 ]
}